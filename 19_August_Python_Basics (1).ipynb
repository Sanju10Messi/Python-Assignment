{
 "cells": [
  {
   "cell_type": "code",
   "execution_count": null,
   "id": "81db811e-1408-4def-b7b4-bfde75341336",
   "metadata": {},
   "outputs": [],
   "source": [
    "# TOPIC: Python Basics Variable"
   ]
  },
  {
   "cell_type": "code",
   "execution_count": 8,
   "id": "f2126852-3dae-4366-94ba-6b1c42c26c16",
   "metadata": {},
   "outputs": [
    {
     "name": "stdout",
     "output_type": "stream",
     "text": [
      "Before Swapping\n",
      "x =  10\n",
      "y =  20\n",
      "After Swapping\n",
      "x =  20\n",
      "y =  10\n"
     ]
    }
   ],
   "source": [
    "\"\"\" #1. Declare two variables, `x` and `y`, and assign them integer values. Swap the\n",
    "        values of these variables without using any temporary variable.\"\"\"\n",
    "\n",
    "# variables Declaration part\n",
    "x = 10\n",
    "y = 20\n",
    "\n",
    "print(\"Before Swapping\")\n",
    "print(\"x = \",x)\n",
    "print(\"y = \",y)\n",
    "\n",
    "# Swapping values without using a temporary variable\n",
    "x,y = y,x\n",
    "\n",
    "print(\"After Swapping\") \n",
    "print(\"x = \",x)\n",
    "print(\"y = \",y)\n"
   ]
  },
  {
   "cell_type": "code",
   "execution_count": 15,
   "id": "8b9d3866-6c90-4d01-bfdd-973bdd493480",
   "metadata": {},
   "outputs": [
    {
     "name": "stdin",
     "output_type": "stream",
     "text": [
      "Enter the length 6.5\n",
      "Enter the Width 2.8\n"
     ]
    },
    {
     "name": "stdout",
     "output_type": "stream",
     "text": [
      "area of Rectangle is =  18.2\n"
     ]
    }
   ],
   "source": [
    "\"\"\" #2. Create a program that calculates the area of a rectangle. Take the length and\n",
    "        width as inputs from the user and store them in variables. Calculate and display \n",
    "        the area.\"\"\"\n",
    "    \n",
    "# Get the length and width from the user\n",
    "a=float(input(\"Enter the length\"))\n",
    "b=float(input(\"Enter the Width\"))\n",
    "\n",
    "# Calculate the area of the rectangle\n",
    "areaRect = a*b\n",
    "\n",
    "# Display the result\n",
    "print(\"area of Rectangle is = \",areaRect)\n",
    "      "
   ]
  },
  {
   "cell_type": "code",
   "execution_count": 23,
   "id": "ed0b9f34-499a-4b50-a26f-1ee1ddffabb4",
   "metadata": {},
   "outputs": [
    {
     "name": "stdin",
     "output_type": "stream",
     "text": [
      "Enter the temperature in Celsius  37\n"
     ]
    },
    {
     "name": "stdout",
     "output_type": "stream",
     "text": [
      "The temperature in  Fahrenheit is  98.60000000000001\n"
     ]
    }
   ],
   "source": [
    "\"\"\" #3. Write a Python program that converts temperatures from Celsius to Fahrenheit.\n",
    "        Take the temperature in Celsius as input, store it in a variable, convert it \n",
    "        to Fahrenheit, and display the result.\"\"\"\n",
    "\n",
    "# Get the temperature in Celsius from the user\n",
    "\n",
    "temp=float(input(\"Enter the temperature in Celsius \"))\n",
    "\n",
    "# Calculate the temperatures from Celsius to Fahrenheit\n",
    "\n",
    "fahr= 9/5*temp+32\n",
    "\n",
    "# Display the result\n",
    "\n",
    "print(\"The temperature in  Fahrenheit is \",fahr)\n"
   ]
  },
  {
   "cell_type": "code",
   "execution_count": null,
   "id": "dd6ecd70-1113-407b-bb8b-619e7f28ee47",
   "metadata": {},
   "outputs": [],
   "source": []
  },
  {
   "cell_type": "code",
   "execution_count": 24,
   "id": "eef949e7-4771-491b-8794-f44164c8dfe7",
   "metadata": {},
   "outputs": [],
   "source": [
    "# TOPIC: String Based Questions"
   ]
  },
  {
   "cell_type": "code",
   "execution_count": 35,
   "id": "c531b781-0601-4a90-a116-e30bcbe8be9f",
   "metadata": {},
   "outputs": [
    {
     "name": "stdin",
     "output_type": "stream",
     "text": [
      "Enter a String  pwskills\n"
     ]
    },
    {
     "name": "stdout",
     "output_type": "stream",
     "text": [
      "length of the string is  8\n"
     ]
    }
   ],
   "source": [
    "\"\"\" #1. Write a Python program that takes a string as input and prints the length of the string.\"\"\"\n",
    "\n",
    "# Get input from the user\n",
    "a=str(input(\"Enter a String \"))\n",
    "\n",
    "# Calculate and print the length of the string\n",
    "length = len(a)\n",
    "print(\"length of the string is \",length)\n",
    "    \n"
   ]
  },
  {
   "cell_type": "code",
   "execution_count": 47,
   "id": "e084ca50-32f5-4e21-ae9d-0dc4ff1e5d3f",
   "metadata": {},
   "outputs": [
    {
     "name": "stdin",
     "output_type": "stream",
     "text": [
      "Enter a Sentance hfaskofoiupowefhhafoifiuhafgnvahoifuoaipj\n"
     ]
    },
    {
     "name": "stdout",
     "output_type": "stream",
     "text": [
      "Numbers of a is  5\n",
      "Numbers of e is  1\n",
      "Numbers of i is  5\n",
      "Numbers of o is  6\n",
      "Numbers of u is  3\n",
      "Number of Vowels 20\n"
     ]
    }
   ],
   "source": [
    "\"\"\"\" #2. Create a program that takes a sentence from the user and counts the number of vowels (a, e, i, o, u) in the string.\"\"\"\n",
    "\n",
    "# Get input from the user\n",
    "a=input(\"Enter a Sentance\")\n",
    "\n",
    "x = a.count('a')\n",
    "print(\"Numbers of a is \", x)\n",
    "\n",
    "y = a.count('e')\n",
    "print(\"Numbers of e is \",y)\n",
    "\n",
    "z = a.count('i')\n",
    "print(\"Numbers of i is \",z)\n",
    "\n",
    "p = a.count('o')\n",
    "print(\"Numbers of o is \",p)\n",
    "\n",
    "q = a.count('u')\n",
    "print(\"Numbers of u is \",q)\n",
    "\n",
    "sum = x+y+z+p+q\n",
    "print(\"Number of Vowels\",sum)"
   ]
  },
  {
   "cell_type": "code",
   "execution_count": 51,
   "id": "1e09dc95-90c0-4bb2-a07d-4c7fd3df5956",
   "metadata": {},
   "outputs": [
    {
     "name": "stdin",
     "output_type": "stream",
     "text": [
      "enter a string sanju\n"
     ]
    },
    {
     "name": "stdout",
     "output_type": "stream",
     "text": [
      "ujnas\n"
     ]
    }
   ],
   "source": [
    "\"\"\" #3. Given a string, reverse the order of characters using string slicing and print the reversed string.\"\"\"\n",
    "\n",
    "# Get input from the user\n",
    "a = input(\"enter a string\")\n",
    "\n",
    "# using string slicing and print the reversed string\n",
    "x = a[::-1]\n",
    "print(x)\n"
   ]
  },
  {
   "cell_type": "code",
   "execution_count": 55,
   "id": "547d0b5e-b4ee-452a-92ef-a7ace44c8f4e",
   "metadata": {},
   "outputs": [
    {
     "name": "stdin",
     "output_type": "stream",
     "text": [
      "Enter a String  Tenet\n"
     ]
    },
    {
     "name": "stdout",
     "output_type": "stream",
     "text": [
      "Given String is not a palindrome\n"
     ]
    }
   ],
   "source": [
    "\"\"\" #4. Write a program that takes a string as input and checks if it is a palindrome (reads the same forwards and backwards).\"\"\"\n",
    "\n",
    "# Get input from the user\n",
    "a = input(\"Enter a String \")\n",
    "\n",
    "# using string slicing to reversed string\n",
    "x = a[::-1]\n",
    "\n",
    "# Check String is reads the same forwards and backwardse and print\n",
    "if a==x:\n",
    "    print(\"Given String is a palindrome\")\n",
    "else:\n",
    "    print(\"Given String is not a palindrome\")\n"
   ]
  },
  {
   "cell_type": "code",
   "execution_count": 61,
   "id": "acbc6a03-56e0-435b-8fd6-a28d9dcfb086",
   "metadata": {},
   "outputs": [
    {
     "name": "stdin",
     "output_type": "stream",
     "text": [
      "enter a String  P w s k i l l s\n"
     ]
    },
    {
     "name": "stdout",
     "output_type": "stream",
     "text": [
      "modified string without spaces  Pwskills\n"
     ]
    }
   ],
   "source": [
    "\"\"\" #5. Create a program that takes a string as input and removes all the spaces from it. Print the modified string without spaces.\"\"\"\n",
    "\n",
    "# Get input from the user\n",
    "a = input(\"enter a String \")\n",
    "\n",
    "# using replace function to remove the spcae from string\n",
    "x= a.replace(\" \",\"\")\n",
    "\n",
    "# Print the modified string without spaces.\n",
    "print(\"modified string without spaces \",x)"
   ]
  },
  {
   "cell_type": "code",
   "execution_count": null,
   "id": "de62800f-7e2d-454e-be63-dcb6070ef788",
   "metadata": {},
   "outputs": [],
   "source": []
  }
 ],
 "metadata": {
  "kernelspec": {
   "display_name": "Python 3 (ipykernel)",
   "language": "python",
   "name": "python3"
  },
  "language_info": {
   "codemirror_mode": {
    "name": "ipython",
    "version": 3
   },
   "file_extension": ".py",
   "mimetype": "text/x-python",
   "name": "python",
   "nbconvert_exporter": "python",
   "pygments_lexer": "ipython3",
   "version": "3.10.8"
  }
 },
 "nbformat": 4,
 "nbformat_minor": 5
}
